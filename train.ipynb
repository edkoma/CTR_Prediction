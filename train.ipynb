{
 "cells": [
  {
   "cell_type": "code",
   "execution_count": null,
   "metadata": {},
   "outputs": [],
   "source": [
    "# coding=utf-8\n",
    "\n",
    "import xgboost as xgb\n",
    "from sklearn.metrics import roc_auc_score\n",
    "from matplotlib import pyplot as plt\n",
    "\n",
    "import dataset\n",
    "\n",
    "\n",
    "def train(X_train, X_test, y_train, y_test):\n",
    "    dtrain = xgb.DMatrix(X_train, label=y_train)\n",
    "    dtest = xgb.DMatrix(X_test, label=y_test)\n",
    "    param = {\n",
    "        'max_depth': 6,\n",
    "        'eta': 0.05,\n",
    "        'silent': 1,\n",
    "        'objective': 'binary:logistic'\n",
    "    }\n",
    "    param['nthread'] = 4\n",
    "    param['eval_metric'] = ['auc', 'logloss']\n",
    "\n",
    "    eval_list = [(dtest, 'eval'), (dtrain, 'train')]\n",
    "    num_round = 1000\n",
    "    early_stopping_rounds = 20\n",
    "    model = xgb.train(params=param, dtrain=dtrain, evals=eval_list, num_boost_round=num_round,\n",
    "              early_stopping_rounds=early_stopping_rounds)\n",
    "    return model\n",
    "\n",
    "\n",
    "def plot_feature_importance(model, feature_buf):\n",
    "    feature_important = model.get_score(importance_type='weight')\n",
    "\n",
    "    feature_important = sorted(feature_important.items(), key=lambda x: x[1], reverse=True)\n",
    "\n",
    "    keys, vals = [], []\n",
    "    for item in feature_important[:20]:\n",
    "        keys.append(feature_buf[int(item[0][1:])])\n",
    "        vals.append(item[1])\n",
    "\n",
    "    print(dict(zip(keys, vals)))\n",
    "\n",
    "    plt.bar(range(len(vals)), vals, width=0.5)\n",
    "    plt.xticks(range(len(vals)), keys, rotation=90)\n",
    "    plt.savefig('feature_importance.pdf', bbox_inches='tight', format='pdf')\n",
    "\n",
    "\n",
    "if __name__ == '__main__':\n",
    "    X_train, X_test, y_train, y_test, feature_buf = dataset.generate_dataset(enhance=False)\n",
    "    model = train(X_train, X_test, y_train, y_test)\n",
    "\n",
    "    pre = model.predict(xgb.DMatrix(X_test, label=None))\n",
    "    auc = roc_auc_score(y_test, pre)\n",
    "    print(auc)\n",
    "\n",
    "    plot_feature_importance(model, feature_buf)"
   ]
  }
 ],
 "metadata": {
  "kernelspec": {
   "display_name": "Python 3",
   "language": "python",
   "name": "python3"
  },
  "language_info": {
   "codemirror_mode": {
    "name": "ipython",
    "version": 3
   },
   "file_extension": ".py",
   "mimetype": "text/x-python",
   "name": "python",
   "nbconvert_exporter": "python",
   "pygments_lexer": "ipython3",
   "version": "3.7.3"
  }
 },
 "nbformat": 4,
 "nbformat_minor": 2
}
